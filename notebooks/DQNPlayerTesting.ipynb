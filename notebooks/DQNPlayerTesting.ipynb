{
 "cells": [
  {
   "cell_type": "code",
   "execution_count": 1,
   "metadata": {
    "collapsed": true
   },
   "outputs": [],
   "source": [
    "import numpy as np\n",
    "import matplotlib.pyplot as plt\n",
    "import pandas as pd\n",
    "%matplotlib inline\n",
    "\n",
    "from pypokerengine.players import BasePokerPlayer\n",
    "from pypokerengine.utils.card_utils import Card, Deck\n",
    "from pypokerengine.api.game import setup_config, start_poker\n",
    "\n",
    "import pickle\n",
    "import tensorflow as tf\n",
    "import random\n",
    "\n",
    "import sys\n",
    "sys.path.insert(0, '../scripts/')\n",
    "\n",
    "import PlayerModels as pm\n",
    "from MyEmulator import MyEmulator\n",
    "from DQNPlayer import DQNPlayer\n",
    "from util import *"
   ]
  },
  {
   "cell_type": "markdown",
   "metadata": {},
   "source": [
    "## Initialization"
   ]
  },
  {
   "cell_type": "code",
   "execution_count": 2,
   "metadata": {
    "collapsed": true
   },
   "outputs": [],
   "source": [
    "h_size = 128"
   ]
  },
  {
   "cell_type": "code",
   "execution_count": 3,
   "metadata": {},
   "outputs": [
    {
     "name": "stdout",
     "output_type": "stream",
     "text": [
      "INFO:tensorflow:Restoring parameters from ../cache/models/DQN/model_4999.ckpt\n",
      "CPU times: user 1.43 s, sys: 350 ms, total: 1.78 s\n",
      "Wall time: 1.6 s\n"
     ]
    }
   ],
   "source": [
    "%time main_wp = DQNPlayer(h_size=h_size, is_restore=True, is_train=False, debug=True, is_double=True)"
   ]
  },
  {
   "cell_type": "markdown",
   "metadata": {},
   "source": [
    "## Testing"
   ]
  },
  {
   "cell_type": "code",
   "execution_count": 4,
   "metadata": {},
   "outputs": [
    {
     "name": "stdout",
     "output_type": "stream",
     "text": [
      "(['Hole:', ['H3', 'CK']],)\n",
      "(['Start stack:', 1500],)\n",
      "(['Estimation:', 0.0909],)\n",
      "Started the round 1\n",
      "Street \"preflop\" started. (community card = [])\n",
      "\"f4\" declared \"call:30\"\n",
      "\"f5\" declared \"call:30\"\n",
      "\"f6\" declared \"call:30\"\n",
      "\"f7\" declared \"call:30\"\n",
      "\"f8\" declared \"call:30\"\n",
      "\"f9\" declared \"call:30\"\n",
      "(array([-1.06974602,  2.80618668,  1.05212402, -5.54151344, -1.16742325], dtype=float32),)\n",
      "\"wp\" declared \"call:30\"\n",
      "\"f2\" declared \"call:30\"\n",
      "\"f3\" declared \"call:30\"\n",
      "Street \"flop\" started. (community card = ['S8', 'D4', 'CA'])\n",
      "\"f2\" declared \"call:0\"\n",
      "\"f3\" declared \"call:0\"\n",
      "\"f4\" declared \"call:0\"\n",
      "\"f5\" declared \"call:0\"\n",
      "\"f6\" declared \"call:0\"\n",
      "\"f7\" declared \"call:0\"\n",
      "\"f8\" declared \"call:0\"\n",
      "\"f9\" declared \"call:0\"\n",
      "(array([-2.65549469,  0.70095634, -0.29030037, -5.77394676, -0.88914108], dtype=float32),)\n",
      "\"wp\" declared \"call:0\"\n",
      "Street \"turn\" started. (community card = ['S8', 'D4', 'CA', 'DT'])\n",
      "\"f2\" declared \"call:0\"\n",
      "\"f3\" declared \"call:0\"\n",
      "\"f4\" declared \"call:0\"\n",
      "\"f5\" declared \"call:0\"\n",
      "\"f6\" declared \"call:0\"\n",
      "\"f7\" declared \"call:0\"\n",
      "\"f8\" declared \"call:0\"\n",
      "\"f9\" declared \"call:0\"\n",
      "(array([-3.37886047, -0.45950699, -1.13499641, -5.99060249, -0.93211937], dtype=float32),)\n",
      "\"wp\" declared \"call:0\"\n",
      "Street \"river\" started. (community card = ['S8', 'D4', 'CA', 'DT', 'HT'])\n",
      "\"f2\" declared \"call:0\"\n",
      "\"f3\" declared \"call:0\"\n",
      "\"f4\" declared \"call:0\"\n",
      "\"f5\" declared \"call:0\"\n",
      "\"f6\" declared \"call:0\"\n",
      "\"f7\" declared \"call:0\"\n",
      "\"f8\" declared \"call:0\"\n",
      "\"f9\" declared \"call:0\"\n",
      "(array([-3.92219162, -1.21206474, -1.73067093, -6.14595985, -1.03348923], dtype=float32),)\n",
      "\"wp\" declared \"raise:735\"\n",
      "\"f2\" declared \"call:735\"\n",
      "\"f3\" declared \"call:735\"\n",
      "\"f4\" declared \"call:735\"\n",
      "\"f5\" declared \"call:735\"\n",
      "\"f6\" declared \"call:735\"\n",
      "\"f7\" declared \"call:735\"\n",
      "\"f8\" declared \"call:735\"\n",
      "\"f9\" declared \"call:735\"\n",
      "\"['f9']\" won the round 1 (stack = {'f2': 735, 'f5': 735, 'f6': 735, 'f7': 735, 'f4': 735, 'f8': 735, 'f9': 7620, 'f3': 735, 'wp': 735})\n",
      "(['End stack:', 735],)\n",
      "(['Hole:', ['SQ', 'C3']],)\n",
      "(['Start stack:', 735],)\n",
      "(['Estimation:', 0.0779],)\n",
      "Started the round 2\n",
      "Street \"preflop\" started. (community card = [])\n",
      "\"f5\" declared \"call:30\"\n",
      "\"f6\" declared \"call:30\"\n",
      "\"f7\" declared \"call:30\"\n",
      "\"f8\" declared \"call:30\"\n",
      "\"f9\" declared \"call:30\"\n",
      "(array([  3.63444519,  30.25926971,   2.03304291,  -1.13326263,  -9.20885468], dtype=float32),)\n",
      "\"wp\" declared \"call:30\"\n",
      "\"f2\" declared \"call:30\"\n",
      "\"f3\" declared \"call:30\"\n",
      "\"f4\" declared \"call:30\"\n",
      "Street \"flop\" started. (community card = ['H4', 'DK', 'D6'])\n",
      "\"f3\" declared \"call:0\"\n",
      "\"f4\" declared \"call:0\"\n",
      "\"f5\" declared \"call:0\"\n",
      "\"f6\" declared \"call:0\"\n",
      "\"f7\" declared \"call:0\"\n",
      "\"f8\" declared \"call:0\"\n",
      "\"f9\" declared \"call:0\"\n",
      "(array([  3.72268677,  28.22602081,   0.07290649,  -3.85804749, -10.43608093], dtype=float32),)\n",
      "\"wp\" declared \"call:0\"\n",
      "\"f2\" declared \"call:0\"\n",
      "Street \"turn\" started. (community card = ['H4', 'DK', 'D6', 'DA'])\n",
      "\"f3\" declared \"call:0\"\n",
      "\"f4\" declared \"call:0\"\n",
      "\"f5\" declared \"call:0\"\n",
      "\"f6\" declared \"call:0\"\n",
      "\"f7\" declared \"call:0\"\n",
      "\"f8\" declared \"call:0\"\n",
      "\"f9\" declared \"call:0\"\n",
      "(array([  3.34243011,  27.72007751,  -0.37839508,  -4.04956055, -10.57871246], dtype=float32),)\n",
      "\"wp\" declared \"call:0\"\n",
      "\"f2\" declared \"call:0\"\n",
      "Street \"river\" started. (community card = ['H4', 'DK', 'D6', 'DA', 'HJ'])\n",
      "\"f3\" declared \"call:0\"\n",
      "\"f4\" declared \"call:0\"\n",
      "\"f5\" declared \"call:0\"\n",
      "\"f6\" declared \"call:0\"\n",
      "\"f7\" declared \"call:0\"\n",
      "\"f8\" declared \"call:0\"\n",
      "\"f9\" declared \"call:0\"\n",
      "(array([  2.6726532 ,  26.77419281,  -1.31170654,  -4.5082016 , -11.04189301], dtype=float32),)\n",
      "\"wp\" declared \"call:0\"\n",
      "\"f2\" declared \"call:0\"\n",
      "\"['f4']\" won the round 2 (stack = {'f2': 705, 'f5': 705, 'f6': 705, 'f7': 705, 'f4': 975, 'f8': 705, 'f9': 7590, 'f3': 705, 'wp': 705})\n",
      "(['End stack:', 705],)\n"
     ]
    }
   ],
   "source": [
    "#config = setup_config(max_round=2, initial_stack=1500, small_blind_amount=15, summary_file='/dev/null')\n",
    "config = setup_config(max_round=2, initial_stack=1500, small_blind_amount=15)\n",
    "config.register_player(name=\"wp\", algorithm=main_wp)\n",
    "# config.register_player(name=\"r2\", algorithm=RandomPlayer())\n",
    "config.register_player(name=\"f2\", algorithm=pm.CallPlayer())\n",
    "config.register_player(name=\"f3\", algorithm=pm.CallPlayer())\n",
    "config.register_player(name=\"f4\", algorithm=pm.CallPlayer())\n",
    "config.register_player(name=\"f5\", algorithm=pm.CallPlayer())\n",
    "config.register_player(name=\"f6\", algorithm=pm.CallPlayer())\n",
    "config.register_player(name=\"f7\", algorithm=pm.CallPlayer())\n",
    "config.register_player(name=\"f8\", algorithm=pm.CallPlayer())\n",
    "config.register_player(name=\"f9\", algorithm=pm.CallPlayer())\n",
    "\n",
    "game_result = start_poker(config, verbose=1)"
   ]
  },
  {
   "cell_type": "markdown",
   "metadata": {},
   "source": [
    "## Metric"
   ]
  },
  {
   "cell_type": "code",
   "execution_count": 5,
   "metadata": {},
   "outputs": [
    {
     "name": "stdout",
     "output_type": "stream",
     "text": [
      "INFO:tensorflow:Restoring parameters from ../cache/models/DQN/model_4999.ckpt\n",
      "CPU times: user 820 ms, sys: 155 ms, total: 975 ms\n",
      "Wall time: 775 ms\n"
     ]
    }
   ],
   "source": [
    "%time main_wp = DQNPlayer(h_size=h_size, is_restore=True, is_train=False, debug=False, is_double=True)"
   ]
  },
  {
   "cell_type": "code",
   "execution_count": 6,
   "metadata": {
    "collapsed": true
   },
   "outputs": [],
   "source": [
    "config = setup_config(max_round=50, initial_stack=1500, small_blind_amount=15)\n",
    "\n",
    "config.register_player(name=\"wp\", algorithm=main_wp)\n",
    "# config.register_player(name=\"r2\", algorithm=RandomPlayer())\n",
    "config.register_player(name=\"CallPlayer1\", algorithm=pm.CallPlayer())\n",
    "config.register_player(name=\"CallPlayer2\", algorithm=pm.CallPlayer())\n",
    "config.register_player(name=\"FoldPlayer1\", algorithm=pm.FoldPlayer())\n",
    "config.register_player(name=\"FoldPlayer2\", algorithm=pm.FoldPlayer())\n",
    "config.register_player(name=\"HeuristicPlayer1\", algorithm=pm.HeuristicPlayer())\n",
    "config.register_player(name=\"HeuristicPlayer2\", algorithm=pm.HeuristicPlayer())\n",
    "config.register_player(name=\"RandomPlayer1\", algorithm=pm.RandomPlayer())\n",
    "config.register_player(name=\"RandomPlayer2\", algorithm=pm.RandomPlayer())"
   ]
  },
  {
   "cell_type": "code",
   "execution_count": 7,
   "metadata": {},
   "outputs": [
    {
     "name": "stdout",
     "output_type": "stream",
     "text": [
      "0\n",
      "1\n",
      "2\n",
      "3\n",
      "4\n",
      "5\n",
      "6\n",
      "7\n",
      "8\n",
      "9\n",
      "10\n",
      "11\n",
      "12\n",
      "13\n",
      "14\n",
      "15\n",
      "16\n",
      "17\n",
      "18\n",
      "19\n",
      "20\n",
      "21\n",
      "22\n",
      "23\n",
      "24\n",
      "25\n",
      "26\n",
      "27\n",
      "28\n",
      "29\n",
      "30\n",
      "31\n",
      "32\n",
      "33\n",
      "34\n",
      "35\n",
      "36\n",
      "37\n",
      "38\n",
      "39\n",
      "40\n",
      "41\n",
      "42\n",
      "43\n",
      "44\n",
      "45\n",
      "46\n",
      "47\n",
      "48\n",
      "49\n",
      "50\n",
      "51\n",
      "52\n",
      "53\n",
      "54\n",
      "55\n",
      "56\n",
      "57\n",
      "58\n",
      "59\n",
      "60\n",
      "61\n",
      "62\n",
      "63\n",
      "64\n",
      "65\n",
      "66\n",
      "67\n",
      "68\n",
      "69\n",
      "70\n",
      "71\n",
      "72\n",
      "73\n",
      "74\n",
      "75\n",
      "76\n",
      "77\n",
      "78\n",
      "79\n",
      "80\n",
      "81\n",
      "82\n",
      "83\n",
      "84\n",
      "85\n",
      "86\n",
      "87\n",
      "88\n",
      "89\n",
      "90\n",
      "91\n",
      "92\n",
      "93\n",
      "94\n",
      "95\n",
      "96\n",
      "97\n",
      "98\n",
      "99\n",
      "CPU times: user 17min 1s, sys: 624 ms, total: 17min 2s\n",
      "Wall time: 16min 38s\n"
     ]
    }
   ],
   "source": [
    "%%time\n",
    "d = None\n",
    "for i in range(100):\n",
    "    game_result = start_poker(config, verbose=0)\n",
    "    t = pd.DataFrame(game_result['players'])\n",
    "    t['round'] = i\n",
    "    print(i)\n",
    "    if d is None:\n",
    "        d = t\n",
    "    else:\n",
    "        d = pd.concat((d, t))"
   ]
  },
  {
   "cell_type": "markdown",
   "metadata": {},
   "source": [
    "### With training only with CallPlayer for 3 hours"
   ]
  },
  {
   "cell_type": "code",
   "execution_count": 8,
   "metadata": {},
   "outputs": [
    {
     "data": {
      "text/plain": [
       "name\n",
       "RandomPlayer1        748.66\n",
       "RandomPlayer2        786.99\n",
       "FoldPlayer1         1083.45\n",
       "FoldPlayer2         1094.10\n",
       "HeuristicPlayer1    1284.91\n",
       "HeuristicPlayer2    1448.99\n",
       "wp                  2213.15\n",
       "CallPlayer1         2316.79\n",
       "CallPlayer2         2510.93\n",
       "Name: stack, dtype: float64"
      ]
     },
     "execution_count": 8,
     "metadata": {},
     "output_type": "execute_result"
    }
   ],
   "source": [
    "d.groupby('name').mean()['stack'].sort_values()"
   ]
  },
  {
   "cell_type": "markdown",
   "metadata": {},
   "source": [
    "### With training  with different players for 4 hours"
   ]
  },
  {
   "cell_type": "code",
   "execution_count": 9,
   "metadata": {},
   "outputs": [
    {
     "data": {
      "text/plain": [
       "name\n",
       "RandomPlayer1        748.66\n",
       "RandomPlayer2        786.99\n",
       "FoldPlayer1         1083.45\n",
       "FoldPlayer2         1094.10\n",
       "HeuristicPlayer1    1284.91\n",
       "HeuristicPlayer2    1448.99\n",
       "wp                  2213.15\n",
       "CallPlayer1         2316.79\n",
       "CallPlayer2         2510.93\n",
       "Name: stack, dtype: float64"
      ]
     },
     "execution_count": 9,
     "metadata": {},
     "output_type": "execute_result"
    }
   ],
   "source": [
    "d.groupby('name').mean()['stack'].sort_values()"
   ]
  },
  {
   "cell_type": "markdown",
   "metadata": {},
   "source": [
    "### With training  with different players for 8 hours"
   ]
  },
  {
   "cell_type": "code",
   "execution_count": 10,
   "metadata": {},
   "outputs": [
    {
     "data": {
      "text/plain": [
       "name\n",
       "RandomPlayer1        748.66\n",
       "RandomPlayer2        786.99\n",
       "FoldPlayer1         1083.45\n",
       "FoldPlayer2         1094.10\n",
       "HeuristicPlayer1    1284.91\n",
       "HeuristicPlayer2    1448.99\n",
       "wp                  2213.15\n",
       "CallPlayer1         2316.79\n",
       "CallPlayer2         2510.93\n",
       "Name: stack, dtype: float64"
      ]
     },
     "execution_count": 10,
     "metadata": {},
     "output_type": "execute_result"
    }
   ],
   "source": [
    "d.groupby('name').mean()['stack'].sort_values()"
   ]
  },
  {
   "cell_type": "markdown",
   "metadata": {},
   "source": [
    "### With training  with different players for 15 hours"
   ]
  },
  {
   "cell_type": "code",
   "execution_count": 11,
   "metadata": {},
   "outputs": [
    {
     "data": {
      "text/plain": [
       "name\n",
       "RandomPlayer1        748.66\n",
       "RandomPlayer2        786.99\n",
       "FoldPlayer1         1083.45\n",
       "FoldPlayer2         1094.10\n",
       "HeuristicPlayer1    1284.91\n",
       "HeuristicPlayer2    1448.99\n",
       "wp                  2213.15\n",
       "CallPlayer1         2316.79\n",
       "CallPlayer2         2510.93\n",
       "Name: stack, dtype: float64"
      ]
     },
     "execution_count": 11,
     "metadata": {},
     "output_type": "execute_result"
    }
   ],
   "source": [
    "d.groupby('name').mean()['stack'].sort_values()"
   ]
  },
  {
   "cell_type": "markdown",
   "metadata": {},
   "source": [
    "### With training  with different players for 26 hours"
   ]
  },
  {
   "cell_type": "code",
   "execution_count": 12,
   "metadata": {},
   "outputs": [
    {
     "data": {
      "text/plain": [
       "name\n",
       "RandomPlayer1        748.66\n",
       "RandomPlayer2        786.99\n",
       "FoldPlayer1         1083.45\n",
       "FoldPlayer2         1094.10\n",
       "HeuristicPlayer1    1284.91\n",
       "HeuristicPlayer2    1448.99\n",
       "wp                  2213.15\n",
       "CallPlayer1         2316.79\n",
       "CallPlayer2         2510.93\n",
       "Name: stack, dtype: float64"
      ]
     },
     "execution_count": 12,
     "metadata": {},
     "output_type": "execute_result"
    }
   ],
   "source": [
    "d.groupby('name').mean()['stack'].sort_values()"
   ]
  },
  {
   "cell_type": "code",
   "execution_count": null,
   "metadata": {
    "collapsed": true
   },
   "outputs": [],
   "source": []
  }
 ],
 "metadata": {
  "hide_input": false,
  "kernelspec": {
   "display_name": "Python 3",
   "language": "python",
   "name": "python3"
  },
  "language_info": {
   "codemirror_mode": {
    "name": "ipython",
    "version": 3
   },
   "file_extension": ".py",
   "mimetype": "text/x-python",
   "name": "python",
   "nbconvert_exporter": "python",
   "pygments_lexer": "ipython3",
   "version": "3.4.3"
  }
 },
 "nbformat": 4,
 "nbformat_minor": 2
}
